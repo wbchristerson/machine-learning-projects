{
 "cells": [
  {
   "cell_type": "markdown",
   "id": "accompanied-coordinator",
   "metadata": {},
   "source": [
    "### Dimensionality Reduction"
   ]
  },
  {
   "cell_type": "markdown",
   "id": "metropolitan-librarian",
   "metadata": {},
   "source": [
    "#### MNIST With Principal Component Analysis (PCA)"
   ]
  },
  {
   "cell_type": "code",
   "execution_count": 23,
   "id": "focal-seventh",
   "metadata": {},
   "outputs": [],
   "source": [
    "import numpy as np"
   ]
  },
  {
   "cell_type": "code",
   "execution_count": 24,
   "id": "growing-shame",
   "metadata": {},
   "outputs": [],
   "source": [
    "from sklearn.datasets import fetch_openml\n",
    "mnist = fetch_openml('mnist_784', version=1)\n",
    "mnist.target = mnist.target.astype(np.int64)"
   ]
  },
  {
   "cell_type": "code",
   "execution_count": 25,
   "id": "laden-hospital",
   "metadata": {},
   "outputs": [],
   "source": [
    "from sklearn.model_selection import train_test_split\n",
    "\n",
    "X = mnist[\"data\"]\n",
    "y = mnist[\"target\"]\n",
    "\n",
    "X_train, X_test, y_train, y_test = train_test_split(X, y, test_size=10000)"
   ]
  },
  {
   "cell_type": "code",
   "execution_count": 26,
   "id": "terminal-sessions",
   "metadata": {},
   "outputs": [],
   "source": [
    "from sklearn.ensemble import RandomForestClassifier\n",
    "\n",
    "rf_clf = RandomForestClassifier(n_estimators=10, random_state=11)"
   ]
  },
  {
   "cell_type": "code",
   "execution_count": 27,
   "id": "derived-satin",
   "metadata": {},
   "outputs": [],
   "source": [
    "import time\n",
    "\n",
    "original_data_train_start = time.time()\n",
    "rf_clf.fit(X_train, y_train)\n",
    "original_data_train_time = time.time() - original_data_train_start"
   ]
  },
  {
   "cell_type": "code",
   "execution_count": 28,
   "id": "developing-visitor",
   "metadata": {},
   "outputs": [
    {
     "data": {
      "text/plain": [
       "7.795207977294922"
      ]
     },
     "execution_count": 28,
     "metadata": {},
     "output_type": "execute_result"
    }
   ],
   "source": [
    "original_data_train_time"
   ]
  },
  {
   "cell_type": "code",
   "execution_count": 29,
   "id": "extensive-ghost",
   "metadata": {},
   "outputs": [
    {
     "data": {
      "text/plain": [
       "0.948"
      ]
     },
     "execution_count": 29,
     "metadata": {},
     "output_type": "execute_result"
    }
   ],
   "source": [
    "rf_clf.score(X_test, y_test)"
   ]
  },
  {
   "cell_type": "markdown",
   "id": "wrapped-supplement",
   "metadata": {},
   "source": [
    "#### Dimensionality Reduction With Explained Variance Ratio Of 95%"
   ]
  },
  {
   "cell_type": "code",
   "execution_count": 30,
   "id": "mighty-competition",
   "metadata": {},
   "outputs": [],
   "source": [
    "from sklearn.decomposition import PCA\n",
    "\n",
    "pca = PCA(n_components=0.95, svd_solver='full')\n",
    "X_train_reduced = pca.fit_transform(X_train)"
   ]
  },
  {
   "cell_type": "code",
   "execution_count": 31,
   "id": "injured-priest",
   "metadata": {},
   "outputs": [
    {
     "data": {
      "text/plain": [
       "array([0.09747651, 0.07172315, 0.06147336, 0.05394125, 0.04904265,\n",
       "       0.04304134, 0.03281495, 0.02875437, 0.02759226, 0.02341265,\n",
       "       0.02112042, 0.02043308, 0.01704051, 0.01693138, 0.0158206 ,\n",
       "       0.01482767, 0.01318209, 0.01276324, 0.01184139, 0.01154963,\n",
       "       0.01067252, 0.01011199, 0.00958624, 0.00910295, 0.00885332,\n",
       "       0.00837205, 0.00812999, 0.00784962, 0.00739628, 0.00686777,\n",
       "       0.00655862, 0.00645629, 0.00600243, 0.00585679, 0.00565062,\n",
       "       0.0054326 , 0.00506195, 0.00487308, 0.00478222, 0.0046711 ,\n",
       "       0.00451755, 0.00443306, 0.00418076, 0.00396021, 0.00384503,\n",
       "       0.00375952, 0.00359931, 0.00350356, 0.0033791 , 0.00319063,\n",
       "       0.00316558, 0.00309421, 0.00297408, 0.00287255, 0.00283741,\n",
       "       0.00270198, 0.00268342, 0.00256729, 0.002527  , 0.0024466 ,\n",
       "       0.00240874, 0.00239978, 0.00228161, 0.00221164, 0.00213432,\n",
       "       0.00206371, 0.00202467, 0.00194731, 0.00192003, 0.00189138,\n",
       "       0.00186765, 0.00180132, 0.00175699, 0.0017406 , 0.00164972,\n",
       "       0.00163314, 0.00161477, 0.00153999, 0.0014712 , 0.00142054,\n",
       "       0.00140909, 0.00140311, 0.00139833, 0.00135146, 0.00132603,\n",
       "       0.00131976, 0.00128892, 0.00125528, 0.00122746, 0.00120556,\n",
       "       0.00116571, 0.00113995, 0.0011211 , 0.00110109, 0.00108405,\n",
       "       0.00106976, 0.00104099, 0.00103247, 0.00100577, 0.0009998 ,\n",
       "       0.00097557, 0.00094373, 0.00093445, 0.0009107 , 0.00090031,\n",
       "       0.00089078, 0.00085906, 0.0008512 , 0.00084021, 0.00081887,\n",
       "       0.0007832 , 0.00077654, 0.00077467, 0.00076504, 0.00075683,\n",
       "       0.00075164, 0.00072964, 0.00072519, 0.0007173 , 0.00070261,\n",
       "       0.00069363, 0.00068915, 0.00067813, 0.00067259, 0.00066063,\n",
       "       0.00064049, 0.00063244, 0.00062925, 0.00061963, 0.00060312,\n",
       "       0.00060057, 0.00059364, 0.00058654, 0.00058259, 0.00057745,\n",
       "       0.00057277, 0.00056255, 0.00055221, 0.00053444, 0.00052793,\n",
       "       0.00052112, 0.00051114, 0.00050207, 0.00049999, 0.00049468,\n",
       "       0.00049414, 0.0004842 , 0.00047967, 0.00047015, 0.00046693,\n",
       "       0.00046597, 0.00046162, 0.00045765, 0.000449  ])"
      ]
     },
     "execution_count": 31,
     "metadata": {},
     "output_type": "execute_result"
    }
   ],
   "source": [
    "pca.explained_variance_ratio_"
   ]
  },
  {
   "cell_type": "code",
   "execution_count": 32,
   "id": "combined-workshop",
   "metadata": {},
   "outputs": [],
   "source": [
    "rf_clf_PCA = RandomForestClassifier(n_estimators=10, random_state=11)"
   ]
  },
  {
   "cell_type": "code",
   "execution_count": 33,
   "id": "choice-miller",
   "metadata": {},
   "outputs": [],
   "source": [
    "pca_data_train_start = time.time()\n",
    "rf_clf_PCA.fit(X_train_reduced, y_train)\n",
    "pca_data_train_time = time.time() - pca_data_train_start"
   ]
  },
  {
   "cell_type": "code",
   "execution_count": 34,
   "id": "spread-county",
   "metadata": {},
   "outputs": [
    {
     "data": {
      "text/plain": [
       "8.212119817733765"
      ]
     },
     "execution_count": 34,
     "metadata": {},
     "output_type": "execute_result"
    }
   ],
   "source": [
    "pca_data_train_time"
   ]
  },
  {
   "cell_type": "code",
   "execution_count": 41,
   "id": "environmental-exclusive",
   "metadata": {},
   "outputs": [],
   "source": [
    "X_test_reduced = pca.transform(X_test)"
   ]
  },
  {
   "cell_type": "code",
   "execution_count": 35,
   "id": "increased-shuttle",
   "metadata": {},
   "outputs": [
    {
     "data": {
      "text/plain": [
       "0.8952"
      ]
     },
     "execution_count": 35,
     "metadata": {},
     "output_type": "execute_result"
    }
   ],
   "source": [
    "rf_clf_PCA.score(pca.transform(X_test), y_test)"
   ]
  },
  {
   "cell_type": "markdown",
   "id": "micro-czech",
   "metadata": {},
   "source": [
    "#### Using Softmax Classifier"
   ]
  },
  {
   "cell_type": "code",
   "execution_count": 45,
   "id": "earned-elder",
   "metadata": {},
   "outputs": [
    {
     "name": "stderr",
     "output_type": "stream",
     "text": [
      "/Users/will/opt/anaconda3/envs/my-env/lib/python3.7/site-packages/sklearn/linear_model/_logistic.py:940: ConvergenceWarning: lbfgs failed to converge (status=1):\n",
      "STOP: TOTAL NO. of ITERATIONS REACHED LIMIT.\n",
      "\n",
      "Increase the number of iterations (max_iter) or scale the data as shown in:\n",
      "    https://scikit-learn.org/stable/modules/preprocessing.html\n",
      "Please also refer to the documentation for alternative solver options:\n",
      "    https://scikit-learn.org/stable/modules/linear_model.html#logistic-regression\n",
      "  extra_warning_msg=_LOGISTIC_SOLVER_CONVERGENCE_MSG)\n"
     ]
    }
   ],
   "source": [
    "from sklearn.linear_model import LogisticRegression\n",
    "\n",
    "log_clf = LogisticRegression(random_state=11, solver=\"lbfgs\", multi_class=\"multinomial\")\n",
    "t0 = time.time()\n",
    "log_clf.fit(X_train, y_train)\n",
    "t1 = time.time()"
   ]
  },
  {
   "cell_type": "code",
   "execution_count": 46,
   "id": "interpreted-israeli",
   "metadata": {},
   "outputs": [
    {
     "name": "stdout",
     "output_type": "stream",
     "text": [
      "logistic regression training time: 14.91 seconds\n"
     ]
    }
   ],
   "source": [
    "print(f\"logistic regression training time: {t1-t0:.2f} seconds\")"
   ]
  },
  {
   "cell_type": "code",
   "execution_count": 47,
   "id": "practical-amsterdam",
   "metadata": {},
   "outputs": [
    {
     "data": {
      "text/plain": [
       "0.9238"
      ]
     },
     "execution_count": 47,
     "metadata": {},
     "output_type": "execute_result"
    }
   ],
   "source": [
    "from sklearn.metrics import accuracy_score\n",
    "\n",
    "y_pred = log_clf.predict(X_test)\n",
    "accuracy_score(y_test, y_pred)"
   ]
  },
  {
   "cell_type": "code",
   "execution_count": 50,
   "id": "proof-librarian",
   "metadata": {},
   "outputs": [
    {
     "name": "stderr",
     "output_type": "stream",
     "text": [
      "/Users/will/opt/anaconda3/envs/my-env/lib/python3.7/site-packages/sklearn/linear_model/_logistic.py:940: ConvergenceWarning: lbfgs failed to converge (status=1):\n",
      "STOP: TOTAL NO. of ITERATIONS REACHED LIMIT.\n",
      "\n",
      "Increase the number of iterations (max_iter) or scale the data as shown in:\n",
      "    https://scikit-learn.org/stable/modules/preprocessing.html\n",
      "Please also refer to the documentation for alternative solver options:\n",
      "    https://scikit-learn.org/stable/modules/linear_model.html#logistic-regression\n",
      "  extra_warning_msg=_LOGISTIC_SOLVER_CONVERGENCE_MSG)\n"
     ]
    }
   ],
   "source": [
    "log_clf2 = LogisticRegression(random_state=11, solver=\"lbfgs\", multi_class=\"multinomial\")\n",
    "t0 = time.time()\n",
    "log_clf2.fit(X_train_reduced, y_train)\n",
    "t1 = time.time()"
   ]
  },
  {
   "cell_type": "code",
   "execution_count": 51,
   "id": "massive-girlfriend",
   "metadata": {},
   "outputs": [
    {
     "name": "stdout",
     "output_type": "stream",
     "text": [
      "logistic regression with PCA training time: 5.11 seconds\n"
     ]
    }
   ],
   "source": [
    "print(f\"logistic regression with PCA training time: {t1-t0:.2f} seconds\")"
   ]
  },
  {
   "cell_type": "code",
   "execution_count": 53,
   "id": "amateur-maker",
   "metadata": {},
   "outputs": [
    {
     "data": {
      "text/plain": [
       "0.9206"
      ]
     },
     "execution_count": 53,
     "metadata": {},
     "output_type": "execute_result"
    }
   ],
   "source": [
    "y_pred = log_clf2.predict(X_test_reduced)\n",
    "accuracy_score(y_test, y_pred)"
   ]
  },
  {
   "cell_type": "markdown",
   "id": "literary-morocco",
   "metadata": {},
   "source": [
    "#### MNIST Handwritten Digits Visualization With t-SNE"
   ]
  },
  {
   "cell_type": "code",
   "execution_count": 54,
   "id": "fifteen-interaction",
   "metadata": {},
   "outputs": [],
   "source": [
    "from sklearn.manifold import TSNE\n",
    "\n",
    "tsne_embedder = TSNE(n_components=2)"
   ]
  },
  {
   "cell_type": "code",
   "execution_count": null,
   "id": "helpful-broadcast",
   "metadata": {},
   "outputs": [],
   "source": [
    "X_train_embedded = tsne_embedder.fit_transform(X_train)\n",
    "X_train_embedded"
   ]
  },
  {
   "cell_type": "code",
   "execution_count": null,
   "id": "introductory-milton",
   "metadata": {},
   "outputs": [],
   "source": []
  }
 ],
 "metadata": {
  "kernelspec": {
   "display_name": "Python 3",
   "language": "python",
   "name": "python3"
  },
  "language_info": {
   "codemirror_mode": {
    "name": "ipython",
    "version": 3
   },
   "file_extension": ".py",
   "mimetype": "text/x-python",
   "name": "python",
   "nbconvert_exporter": "python",
   "pygments_lexer": "ipython3",
   "version": "3.7.10"
  }
 },
 "nbformat": 4,
 "nbformat_minor": 5
}
