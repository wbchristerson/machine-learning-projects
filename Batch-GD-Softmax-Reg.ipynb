{
 "cells": [
  {
   "cell_type": "markdown",
   "id": "gothic-clothing",
   "metadata": {},
   "source": [
    "### An Implementation Of Batch Gradient Descent With $L_2$ Regularization And Early Stopping For Softmax Regression Without Using Scikit-learn"
   ]
  },
  {
   "cell_type": "code",
   "execution_count": 1,
   "id": "eight-natural",
   "metadata": {},
   "outputs": [],
   "source": [
    "import numpy as np\n",
    "np.random.seed(2042)\n",
    "\n",
    "from sklearn import datasets\n",
    "iris = datasets.load_iris()"
   ]
  },
  {
   "cell_type": "code",
   "execution_count": 2,
   "id": "expensive-junction",
   "metadata": {},
   "outputs": [],
   "source": [
    "def my_test_split(X, y, test_ratio = 0.2, validation_ratio = 0.2):\n",
    "    total_size = len(X)\n",
    "    test_size = int(total_size * test_ratio)\n",
    "    valid_size = int(total_size * validation_ratio)\n",
    "    train_size = total_size - test_size - valid_size\n",
    "    \n",
    "    permutation_indices = np.random.permutation(total_size)\n",
    "    \n",
    "    X_train = X[permutation_indices[:train_size]]\n",
    "    y_train = y[permutation_indices[:train_size]]\n",
    "    X_valid = X[permutation_indices[train_size:-test_size]]\n",
    "    y_valid = y[permutation_indices[train_size:-test_size]]\n",
    "    X_test = X[permutation_indices[-test_size:]]\n",
    "    y_test = y[permutation_indices[-test_size:]]\n",
    "    \n",
    "    return X_train, y_train, X_valid, y_valid, X_test, y_test"
   ]
  },
  {
   "cell_type": "code",
   "execution_count": 3,
   "id": "delayed-battle",
   "metadata": {},
   "outputs": [],
   "source": [
    "def encode_output(y_output, possible_outputs):\n",
    "    m = len(y_output)\n",
    "    encoding = np.zeros((m, possible_outputs))\n",
    "    encoding[np.arange(m), y_output] = 1\n",
    "    return encoding"
   ]
  },
  {
   "cell_type": "code",
   "execution_count": 4,
   "id": "continuing-tampa",
   "metadata": {},
   "outputs": [],
   "source": [
    "X = iris[\"data\"][:, (2,3)]\n",
    "y = iris[\"target\"]\n",
    "\n",
    "X_with_bias = np.c_[np.ones([len(X), 1]), X]\n",
    "\n",
    "X_train, y_train, X_valid, y_valid, X_test, y_test = my_test_split(X_with_bias, y)\n",
    "\n",
    "y_train_one_hot = encode_output(y_train, len(np.unique(y)))\n",
    "y_valid_one_hot = encode_output(y_valid, len(np.unique(y)))\n",
    "y_test_one_hot = encode_output(y_test, len(np.unique(y)))"
   ]
  },
  {
   "cell_type": "code",
   "execution_count": 5,
   "id": "distributed-sudan",
   "metadata": {},
   "outputs": [],
   "source": [
    "def softmax(logits):\n",
    "    exps = np.exp(logits)\n",
    "    exps_sums = np.sum(exps, axis=1, keepdims=True)\n",
    "    return exps / exps_sums"
   ]
  },
  {
   "cell_type": "markdown",
   "id": "increasing-january",
   "metadata": {},
   "source": [
    "$J(\\mathbf{\\Theta}) =\n",
    "- \\dfrac{1}{m}\\sum\\limits_{i=1}^{m}\\sum\\limits_{k=1}^{K}{y_k^{(i)}\\log\\left(\\hat{p}_k^{(i)}\\right)}$\n",
    "\n",
    "$\\nabla_{\\mathbf{\\theta}^{(k)}} \\, J(\\mathbf{\\Theta}) = \\dfrac{1}{m} \\sum\\limits_{i=1}^{m}{ \\left ( \\hat{p}^{(i)}_k - y_k^{(i)} \\right ) \\mathbf{x}^{(i)}}$"
   ]
  },
  {
   "cell_type": "code",
   "execution_count": 6,
   "id": "corresponding-carrier",
   "metadata": {},
   "outputs": [
    {
     "name": "stdout",
     "output_type": "stream",
     "text": [
      "iteration: 0, loss: 2.1041298095182546\n",
      "iteration: 500, loss: 0.7975963791730118\n",
      "iteration: 1000, loss: 0.6623252726598646\n",
      "iteration: 1500, loss: 0.5815322702225296\n",
      "iteration: 2000, loss: 0.5285580975272502\n",
      "iteration: 2500, loss: 0.4907949263916581\n",
      "iteration: 3000, loss: 0.46208653508183384\n",
      "iteration: 3500, loss: 0.4391923433913653\n",
      "iteration: 4000, loss: 0.4202717004630981\n",
      "iteration: 4500, loss: 0.40420680212026194\n",
      "iteration: 5000, loss: 0.39027932970205237\n"
     ]
    }
   ],
   "source": [
    "n_inputs = X_train.shape[1]\n",
    "n_outputs = len(np.unique(y))\n",
    "m = len(X_train)\n",
    "epsilon = 1e-7\n",
    "iterations = 5001\n",
    "eta = 0.01\n",
    "\n",
    "theta = np.random.rand(n_inputs, n_outputs)\n",
    "for i in range(iterations):\n",
    "    logits = X_train.dot(theta)\n",
    "    y_proba = softmax(logits)\n",
    "    loss = -np.mean(np.sum(np.log(y_proba + epsilon) * y_train_one_hot, axis = 1))\n",
    "    \n",
    "    if i % 500 == 0:\n",
    "        print(f\"iteration: {i}, loss: {loss}\")\n",
    "    \n",
    "    error = y_proba - y_train_one_hot\n",
    "\n",
    "    gradients = 1/m * (X_train.T.dot(error))\n",
    "    theta = theta - eta * gradients"
   ]
  },
  {
   "cell_type": "code",
   "execution_count": 7,
   "id": "successful-cannon",
   "metadata": {},
   "outputs": [
    {
     "data": {
      "text/plain": [
       "array([[ 3.52684124, -0.18458978, -2.48941342],\n",
       "       [ 0.09459761,  1.08547944,  0.92677895],\n",
       "       [-1.37121463, -0.01431783,  1.96615452]])"
      ]
     },
     "execution_count": 7,
     "metadata": {},
     "output_type": "execute_result"
    }
   ],
   "source": [
    "theta"
   ]
  },
  {
   "cell_type": "code",
   "execution_count": 8,
   "id": "monthly-elephant",
   "metadata": {},
   "outputs": [
    {
     "data": {
      "text/plain": [
       "0.9666666666666667"
      ]
     },
     "execution_count": 8,
     "metadata": {},
     "output_type": "execute_result"
    }
   ],
   "source": [
    "logits = X_valid.dot(theta)\n",
    "y_proba = softmax(logits)\n",
    "y_predict = np.argmax(y_proba, axis=1)\n",
    "\n",
    "accuracy_score = np.mean(y_predict == y_valid)\n",
    "accuracy_score"
   ]
  },
  {
   "cell_type": "markdown",
   "id": "german-mumbai",
   "metadata": {},
   "source": [
    "### With Regularization"
   ]
  },
  {
   "cell_type": "code",
   "execution_count": 9,
   "id": "desirable-fashion",
   "metadata": {},
   "outputs": [
    {
     "name": "stdout",
     "output_type": "stream",
     "text": [
      "iteration: 0, loss: 4.7895118170337865\n",
      "iteration: 500, loss: 4.354613634138111\n",
      "iteration: 1000, loss: 4.303759867080397\n",
      "iteration: 1500, loss: 4.281378596617913\n",
      "iteration: 2000, loss: 4.269049337541218\n",
      "iteration: 2500, loss: 4.261617688966042\n",
      "iteration: 3000, loss: 4.256931573007697\n",
      "iteration: 3500, loss: 4.2539000488526195\n",
      "iteration: 4000, loss: 4.2519078975774125\n",
      "iteration: 4500, loss: 4.250585567880129\n",
      "iteration: 5000, loss: 4.24970206452791\n"
     ]
    }
   ],
   "source": [
    "n_inputs = X_train.shape[1]\n",
    "n_outputs = len(np.unique(y))\n",
    "m = len(X_train)\n",
    "epsilon = 1e-7\n",
    "iterations = 5001\n",
    "eta = 0.1\n",
    "alpha = 0.1\n",
    "\n",
    "r_theta = np.random.rand(n_inputs, n_outputs)\n",
    "for i in range(iterations):\n",
    "    logits = X_train.dot(r_theta)\n",
    "    y_proba = softmax(logits)\n",
    "    entropy_loss = -np.mean(np.sum(np.log(y_proba + epsilon) * y_train_one_hot, axis = 1))\n",
    "    l2_loss = 0.5 * np.sum(np.square(theta[1:]))\n",
    "    loss = entropy_loss + l2_loss\n",
    "    \n",
    "    if i % 500 == 0:\n",
    "        print(f\"iteration: {i}, loss: {loss}\")\n",
    "    \n",
    "    error = y_proba - y_train_one_hot\n",
    "    gradients = 1/m * (X_train.T.dot(error)) + np.r_[np.zeros([1, n_outputs]), alpha * r_theta[1:]]\n",
    "    r_theta = r_theta - eta * gradients"
   ]
  },
  {
   "cell_type": "code",
   "execution_count": 10,
   "id": "bigger-governor",
   "metadata": {},
   "outputs": [
    {
     "data": {
      "text/plain": [
       "1.0"
      ]
     },
     "execution_count": 10,
     "metadata": {},
     "output_type": "execute_result"
    }
   ],
   "source": [
    "logits = X_valid.dot(r_theta)\n",
    "y_proba = softmax(logits)\n",
    "y_predict = np.argmax(y_proba, axis=1)\n",
    "\n",
    "accuracy_score = np.mean(y_predict == y_valid)\n",
    "accuracy_score"
   ]
  },
  {
   "cell_type": "markdown",
   "id": "human-mortality",
   "metadata": {},
   "source": [
    "### With Early Stopping"
   ]
  },
  {
   "cell_type": "markdown",
   "id": "opposite-private",
   "metadata": {},
   "source": [
    "$J(\\mathbf{\\Theta}) =\n",
    "- \\dfrac{1}{m}\\sum\\limits_{i=1}^{m}\\sum\\limits_{k=1}^{K}{y_k^{(i)}\\log\\left(\\hat{p}_k^{(i)}\\right)}$\n",
    "\n",
    "$\\nabla_{\\mathbf{\\theta}^{(k)}} \\, J(\\mathbf{\\Theta}) = \\dfrac{1}{m} \\sum\\limits_{i=1}^{m}{ \\left ( \\hat{p}^{(i)}_k - y_k^{(i)} \\right ) \\mathbf{x}^{(i)}}$"
   ]
  },
  {
   "cell_type": "code",
   "execution_count": 36,
   "id": "raising-entity",
   "metadata": {},
   "outputs": [
    {
     "name": "stdout",
     "output_type": "stream",
     "text": [
      "[[0.37892122 0.364587   0.25649178]\n",
      " [0.64990511 0.27098749 0.0791074 ]\n",
      " [0.72850332 0.23223968 0.039257  ]\n",
      " [0.64002745 0.27849694 0.08147561]\n",
      " [0.64990511 0.27098749 0.0791074 ]]\n",
      "\n",
      "[[-0.62107878  0.364587    0.25649178]\n",
      " [ 0.64990511 -0.72901251  0.0791074 ]\n",
      " [ 0.72850332  0.23223968 -0.960743  ]\n",
      " [ 0.64002745 -0.72150306  0.08147561]\n",
      " [ 0.64990511 -0.72901251  0.0791074 ]]\n",
      "\n",
      "[-0.62107878 -0.72901251 -0.960743   -0.72150306 -0.72901251]\n",
      "\n",
      "[[1.  1.4 0.2]\n",
      " [1.  4.1 1.3]\n",
      " [1.  5.2 2. ]\n",
      " [1.  4.  1.3]\n",
      " [1.  4.1 1.3]]\n",
      "\n",
      "[ -69.54246777 -284.18557738  -93.25877089]\n",
      "\n",
      "[-0.77269409 -3.15761753 -1.03620857]\n"
     ]
    }
   ],
   "source": [
    "n_iterations = 1\n",
    "n_inputs = X_train.shape[1]\n",
    "n_outputs = len(np.unique(y))\n",
    "e_theta = np.random.rand(n_inputs, n_outputs)\n",
    "m = X_train.shape[0]\n",
    "eta = 0.1\n",
    "alpha = 0.1\n",
    "best_loss = np.infty\n",
    "\n",
    "for i in range(n_iterations):\n",
    "    logits = X_train.dot(e_theta)\n",
    "    proba = softmax(logits)\n",
    "    \n",
    "    label_proba = np.sum(proba * y_train_one_hot, axis=1)\n",
    "    adjusted_label_proba = label_proba + epsilon\n",
    "    log_label_proba = np.log(adjusted_label_proba)\n",
    "    loss = -np.sum(log_label_proba)\n",
    "    # loss = np.sum(-np.log(np.sum(proba * y_train_one_hot, axis=1) + epsilon))\n",
    "    \n",
    "    if i % 500 == 0:\n",
    "        #print(logits[:5])\n",
    "        #print()\n",
    "        print(proba[:5])\n",
    "        print()\n",
    "        #print(np.sum(-np.log(np.sum(proba * y_train_one_hot, axis=1) + epsilon)) / m)\n",
    "        print((proba - y_train_one_hot)[:5])\n",
    "        print()\n",
    "        print(np.sum((proba - y_train_one_hot) * y_train_one_hot, axis=1)[:5])\n",
    "        print()\n",
    "        print(X_train[:5])\n",
    "        print()\n",
    "        print(X_train.T.dot(np.sum((proba - y_train_one_hot) * y_train_one_hot, axis=1)))\n",
    "        print()\n",
    "        print(X_train.T.dot(np.sum((proba - y_train_one_hot) * y_train_one_hot, axis=1)) / m)"
   ]
  },
  {
   "cell_type": "code",
   "execution_count": null,
   "id": "offensive-happiness",
   "metadata": {},
   "outputs": [],
   "source": []
  }
 ],
 "metadata": {
  "kernelspec": {
   "display_name": "Python 3",
   "language": "python",
   "name": "python3"
  },
  "language_info": {
   "codemirror_mode": {
    "name": "ipython",
    "version": 3
   },
   "file_extension": ".py",
   "mimetype": "text/x-python",
   "name": "python",
   "nbconvert_exporter": "python",
   "pygments_lexer": "ipython3",
   "version": "3.7.10"
  }
 },
 "nbformat": 4,
 "nbformat_minor": 5
}
