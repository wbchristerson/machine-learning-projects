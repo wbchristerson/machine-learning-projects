{
 "cells": [
  {
   "cell_type": "markdown",
   "id": "gothic-clothing",
   "metadata": {},
   "source": [
    "### An Implementation Of Batch Gradient Descent With Early Stopping For Softmax Regression Without Using Scikit-learn"
   ]
  },
  {
   "cell_type": "code",
   "execution_count": 51,
   "id": "eight-natural",
   "metadata": {},
   "outputs": [],
   "source": [
    "import numpy as np"
   ]
  },
  {
   "cell_type": "code",
   "execution_count": 65,
   "id": "color-horizon",
   "metadata": {},
   "outputs": [],
   "source": [
    "def get_gradient_scalar(row, theta_matrix, output_class, true_outcome):\n",
    "    '''return p_k^(i) hat - y_k^(i)'''\n",
    "#     print(row)\n",
    "#     print(output_class_theta)\n",
    "#     print()\n",
    "    \n",
    "    relative_probabilities = row @ theta_matrix\n",
    "    print(relative_probabilities)\n",
    "    \n",
    "    probability_hat = 0.0\n",
    "    match_indicator = 1 if output_class == true_outcome else 0\n",
    "    return probability_hat - match_indicator"
   ]
  },
  {
   "cell_type": "code",
   "execution_count": 66,
   "id": "professional-phase",
   "metadata": {},
   "outputs": [],
   "source": [
    "def get_theta_gradient(output_class, X, y, theta_matrix):\n",
    "    theta_gradient = np.zeros((1, X.shape[1]))\n",
    "    \n",
    "    \n",
    "\n",
    "    for row, true_outcome in zip(X, y):\n",
    "        theta_gradient += get_gradient_scalar(row, theta_matrix, output_class, true_outcome) * row\n",
    "    \n",
    "    return theta_gradient / X.shape[0]"
   ]
  },
  {
   "cell_type": "code",
   "execution_count": 67,
   "id": "mathematical-toolbox",
   "metadata": {},
   "outputs": [],
   "source": [
    "def my_batch_GD(X, y, num_output_classes, alpha = 0.1):\n",
    "    theta_matrix = np.random.rand(X[0].size, num_output_classes)\n",
    "    m = X.shape[0]\n",
    "    \n",
    "    # delta_theta_matrix = np.zeros((X[0].size, num_output_classes))\n",
    "    delta_theta_matrix = np.array([]).reshape((0, X.shape[1]))\n",
    "    \n",
    "    for i in range(num_output_classes):\n",
    "#         delta_theta_matrix = np.append(delta_theta_matrix, np.array([[get_theta_gradient(i, X, y, theta_matrix)]]))\n",
    "        delta_theta_matrix = np.vstack((delta_theta_matrix, np.array(get_theta_gradient(i, X, y, theta_matrix))))\n",
    "    \n",
    "#     print(delta_theta_matrix)\n",
    "#     print()\n",
    "#     print(\"transpose:\\n\", np.transpose(delta_theta_matrix))\n",
    "#     print()\n",
    "    theta_matrix += alpha * np.transpose(delta_theta_matrix)\n",
    "    #     print(theta_matrix)\n",
    "    return theta_matrix"
   ]
  },
  {
   "cell_type": "code",
   "execution_count": 68,
   "id": "grand-bosnia",
   "metadata": {},
   "outputs": [
    {
     "name": "stdout",
     "output_type": "stream",
     "text": [
      "[4.21836311 4.86823878 3.42064994]\n",
      "[ 9.51859467 12.04294339  8.17588983]\n",
      "[14.81882623 19.21764799 12.93112971]\n",
      "[20.1190578 26.3923526 17.6863696]\n",
      "[4.21836311 4.86823878 3.42064994]\n",
      "[ 9.51859467 12.04294339  8.17588983]\n",
      "[14.81882623 19.21764799 12.93112971]\n",
      "[20.1190578 26.3923526 17.6863696]\n",
      "[4.21836311 4.86823878 3.42064994]\n",
      "[ 9.51859467 12.04294339  8.17588983]\n",
      "[14.81882623 19.21764799 12.93112971]\n",
      "[20.1190578 26.3923526 17.6863696]\n",
      "[[-0.02395552  0.51187301  0.4046316 ]\n",
      " [ 0.25477949  0.4077198   0.52532675]\n",
      " [ 0.56091988  0.49697539  0.65512162]]\n"
     ]
    }
   ],
   "source": [
    "print(my_batch_GD(np.array( [ [1,2,3], [4,5,6], [7,8,9], [10,11,12] ] ), np.array([0, 1, 1, 0]), 3))"
   ]
  },
  {
   "cell_type": "code",
   "execution_count": 64,
   "id": "otherwise-documentary",
   "metadata": {},
   "outputs": [
    {
     "data": {
      "text/plain": [
       "array([5, 7, 5])"
      ]
     },
     "execution_count": 64,
     "metadata": {},
     "output_type": "execute_result"
    }
   ],
   "source": [
    "W = np.array([ -1, 0, 2 ])\n",
    "X = np.array([ [1,-1,1], [2,2,2], [3,3,3] ])\n",
    "\n",
    "W @ X"
   ]
  },
  {
   "cell_type": "code",
   "execution_count": null,
   "id": "different-blowing",
   "metadata": {},
   "outputs": [],
   "source": []
  }
 ],
 "metadata": {
  "kernelspec": {
   "display_name": "Python 3",
   "language": "python",
   "name": "python3"
  },
  "language_info": {
   "codemirror_mode": {
    "name": "ipython",
    "version": 3
   },
   "file_extension": ".py",
   "mimetype": "text/x-python",
   "name": "python",
   "nbconvert_exporter": "python",
   "pygments_lexer": "ipython3",
   "version": "3.7.10"
  }
 },
 "nbformat": 4,
 "nbformat_minor": 5
}
