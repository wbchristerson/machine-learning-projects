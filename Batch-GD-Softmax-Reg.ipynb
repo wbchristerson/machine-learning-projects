{
 "cells": [
  {
   "cell_type": "markdown",
   "id": "gothic-clothing",
   "metadata": {},
   "source": [
    "### An Implementation Of Batch Gradient Descent With Early Stopping For Softmax Regression Without Using Scikit-learn"
   ]
  },
  {
   "cell_type": "code",
   "execution_count": 51,
   "id": "eight-natural",
   "metadata": {},
   "outputs": [],
   "source": [
    "import numpy as np"
   ]
  },
  {
   "cell_type": "code",
   "execution_count": 52,
   "id": "color-horizon",
   "metadata": {},
   "outputs": [],
   "source": [
    "def get_gradient_scalar(x_i, theta_matrix, output_class_k, true_outcome):\n",
    "    '''return p_k^(i) hat - y_k^(i)'''\n",
    "    \n",
    "    matrix_product = x_i @ theta_matrix\n",
    "    pki_hat = np.exp(matrix_product[output_class_k]) / np.sum(np.exp(matrix_product[output_class_k])) # probability\n",
    "    \n",
    "    yki = 1 if output_class_k == true_outcome else 0\n",
    "    return pki_hat - yki"
   ]
  },
  {
   "cell_type": "code",
   "execution_count": 53,
   "id": "professional-phase",
   "metadata": {},
   "outputs": [],
   "source": [
    "def get_theta_gradient(output_class_k, X, y, theta_matrix):\n",
    "    theta_gradient = np.zeros((1, X.shape[1]))\n",
    "    m = X.shape[0]\n",
    "    for x_i, true_outcome in zip(X, y):\n",
    "        theta_gradient += get_gradient_scalar(x_i, theta_matrix, output_class_k, true_outcome) * x_i\n",
    "    \n",
    "    return theta_gradient / m"
   ]
  },
  {
   "cell_type": "code",
   "execution_count": 57,
   "id": "mathematical-toolbox",
   "metadata": {},
   "outputs": [],
   "source": [
    "def my_batch_GD(X, y, num_output_classes, alpha = 0.1, epochs = 10):\n",
    "    theta_matrix = np.random.rand(X[0].size, num_output_classes)\n",
    "    \n",
    "    for e in range(epochs):\n",
    "        delta_theta_matrix = np.array([]).reshape((0, X.shape[1]))\n",
    "        for k in range(num_output_classes):\n",
    "            delta_theta_matrix = np.vstack((delta_theta_matrix, np.array(get_theta_gradient(k, X, y, theta_matrix))))\n",
    "        theta_matrix += alpha * np.transpose(delta_theta_matrix)\n",
    "    return theta_matrix"
   ]
  },
  {
   "cell_type": "code",
   "execution_count": 64,
   "id": "grand-bosnia",
   "metadata": {},
   "outputs": [
    {
     "name": "stdout",
     "output_type": "stream",
     "text": [
      "[[2.80881247 3.12257036 5.88361768]\n",
      " [3.61153451 3.70904571 6.63699555]\n",
      " [4.62962559 3.82304101 7.60389623]]\n"
     ]
    }
   ],
   "source": [
    "print(my_batch_GD(np.array( [ [1,2,3], [4,5,6], [7,8,9], [10,11,12] ] ), np.array([0, 1, 1, 0]), 3))"
   ]
  },
  {
   "cell_type": "code",
   "execution_count": 65,
   "id": "hollywood-placement",
   "metadata": {},
   "outputs": [],
   "source": [
    "def fit_and_make_prediction(X_train, y_train, X_test, num_output_classes):\n",
    "    theta_matrix = my_batch_GD(X_train, y_train, num_output_classes)\n",
    "    relative_weights = X_test @ theta_matrix\n",
    "    return np.argmax(relative_weights, axis=1)"
   ]
  },
  {
   "cell_type": "code",
   "execution_count": 66,
   "id": "different-blowing",
   "metadata": {},
   "outputs": [],
   "source": [
    "from sklearn import datasets\n",
    "iris = datasets.load_iris()"
   ]
  },
  {
   "cell_type": "code",
   "execution_count": 74,
   "id": "equipped-africa",
   "metadata": {},
   "outputs": [],
   "source": [
    "X = iris[\"data\"][:, (2,3)]\n",
    "y = iris[\"target\"]"
   ]
  },
  {
   "cell_type": "code",
   "execution_count": 76,
   "id": "needed-slovenia",
   "metadata": {},
   "outputs": [
    {
     "name": "stdout",
     "output_type": "stream",
     "text": [
      "144\n",
      "150\n"
     ]
    }
   ],
   "source": [
    "# Reference regressor\n",
    "from sklearn.linear_model import LogisticRegression\n",
    "\n",
    "softmax_reg = LogisticRegression(multi_class=\"multinomial\", solver=\"lbfgs\", C=10, random_state=11)\n",
    "softmax_reg.fit(X, y)\n",
    "\n",
    "y_pred = softmax_reg.predict(X)\n",
    "print(len(y_pred[y_pred == y]))\n",
    "print(len(y_pred))"
   ]
  },
  {
   "cell_type": "code",
   "execution_count": null,
   "id": "virgin-apache",
   "metadata": {},
   "outputs": [],
   "source": [
    "y_"
   ]
  }
 ],
 "metadata": {
  "kernelspec": {
   "display_name": "Python 3",
   "language": "python",
   "name": "python3"
  },
  "language_info": {
   "codemirror_mode": {
    "name": "ipython",
    "version": 3
   },
   "file_extension": ".py",
   "mimetype": "text/x-python",
   "name": "python",
   "nbconvert_exporter": "python",
   "pygments_lexer": "ipython3",
   "version": "3.7.10"
  }
 },
 "nbformat": 4,
 "nbformat_minor": 5
}
