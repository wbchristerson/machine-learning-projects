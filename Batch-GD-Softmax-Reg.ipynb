{
 "cells": [
  {
   "cell_type": "markdown",
   "id": "gothic-clothing",
   "metadata": {},
   "source": [
    "### An Implementation Of Batch Gradient Descent With $L_2$ Regularization And Early Stopping For Softmax Regression Without Using Scikit-learn"
   ]
  },
  {
   "cell_type": "code",
   "execution_count": 75,
   "id": "eight-natural",
   "metadata": {},
   "outputs": [],
   "source": [
    "import numpy as np\n",
    "np.random.seed(2041)\n",
    "\n",
    "from sklearn import datasets\n",
    "iris = datasets.load_iris()"
   ]
  },
  {
   "cell_type": "code",
   "execution_count": 76,
   "id": "expensive-junction",
   "metadata": {},
   "outputs": [],
   "source": [
    "def my_test_split(X, y, test_ratio = 0.2, validation_ratio = 0.2):\n",
    "    total_size = len(X)\n",
    "    test_size = int(total_size * test_ratio)\n",
    "    valid_size = int(total_size * validation_ratio)\n",
    "    train_size = total_size - test_size - valid_size\n",
    "    \n",
    "    permutation_indices = np.random.permutation(total_size)\n",
    "    \n",
    "    X_train = X[permutation_indices[:train_size]]\n",
    "    y_train = y[permutation_indices[:train_size]]\n",
    "    X_valid = X[permutation_indices[train_size:-test_size]]\n",
    "    y_valid = y[permutation_indices[train_size:-test_size]]\n",
    "    X_test = X[permutation_indices[-test_size:]]\n",
    "    y_test = y[permutation_indices[-test_size:]]\n",
    "    \n",
    "    return X_train, y_train, X_valid, y_valid, X_test, y_test"
   ]
  },
  {
   "cell_type": "code",
   "execution_count": 77,
   "id": "delayed-battle",
   "metadata": {},
   "outputs": [],
   "source": [
    "def encode_output(y_output, possible_outputs):\n",
    "    m = len(y_output)\n",
    "    encoding = np.zeros((m, possible_outputs))\n",
    "    encoding[np.arange(m), y_output] = 1\n",
    "    return encoding"
   ]
  },
  {
   "cell_type": "code",
   "execution_count": 78,
   "id": "continuing-tampa",
   "metadata": {},
   "outputs": [],
   "source": [
    "X = iris[\"data\"][:, (2,3)]\n",
    "y = iris[\"target\"]\n",
    "\n",
    "X_with_bias = np.c_[np.ones([len(X), 1]), X]\n",
    "\n",
    "X_train, y_train, X_valid, y_valid, X_test, y_test = my_test_split(X_with_bias, y)\n",
    "\n",
    "y_train_one_hot = encode_output(y_train, len(np.unique(y)))\n",
    "y_valid_one_hot = encode_output(y_valid, len(np.unique(y)))\n",
    "y_test_one_hot = encode_output(y_test, len(np.unique(y)))"
   ]
  },
  {
   "cell_type": "code",
   "execution_count": 79,
   "id": "distributed-sudan",
   "metadata": {},
   "outputs": [],
   "source": [
    "def softmax(logits):\n",
    "    exps = np.exp(logits)\n",
    "    exps_sums = np.sum(exps, axis=1, keepdims=True)\n",
    "    return exps / exps_sums"
   ]
  },
  {
   "cell_type": "markdown",
   "id": "increasing-january",
   "metadata": {},
   "source": [
    "$J(\\mathbf{\\Theta}) =\n",
    "- \\dfrac{1}{m}\\sum\\limits_{i=1}^{m}\\sum\\limits_{k=1}^{K}{y_k^{(i)}\\log\\left(\\hat{p}_k^{(i)}\\right)}$\n",
    "\n",
    "$\\nabla_{\\mathbf{\\theta}^{(k)}} \\, J(\\mathbf{\\Theta}) = \\dfrac{1}{m} \\sum\\limits_{i=1}^{m}{ \\left ( \\hat{p}^{(i)}_k - y_k^{(i)} \\right ) \\mathbf{x}^{(i)}}$"
   ]
  },
  {
   "cell_type": "code",
   "execution_count": 80,
   "id": "corresponding-carrier",
   "metadata": {},
   "outputs": [
    {
     "name": "stdout",
     "output_type": "stream",
     "text": [
      "iteration: 0, loss: 1.3616236424737729\n",
      "iteration: 500, loss: 0.712267812065665\n",
      "iteration: 1000, loss: 0.6146619861022742\n",
      "iteration: 1500, loss: 0.5523659768747184\n",
      "iteration: 2000, loss: 0.5086729950532366\n",
      "iteration: 2500, loss: 0.4758470725246894\n",
      "iteration: 3000, loss: 0.4499263609434202\n",
      "iteration: 3500, loss: 0.4286927896259171\n",
      "iteration: 4000, loss: 0.41080997609902103\n",
      "iteration: 4500, loss: 0.3954232055412157\n",
      "iteration: 5000, loss: 0.38195849619255023\n"
     ]
    }
   ],
   "source": [
    "n_inputs = X_train.shape[1]\n",
    "n_outputs = len(np.unique(y))\n",
    "m = len(X_train)\n",
    "epsilon = 1e-7\n",
    "iterations = 5001\n",
    "eta = 0.01\n",
    "\n",
    "theta = np.random.rand(n_inputs, n_outputs)\n",
    "for i in range(iterations):\n",
    "    logits = X_train.dot(theta)\n",
    "    y_proba = softmax(logits)\n",
    "    loss = -np.mean(np.sum(np.log(y_proba + epsilon) * y_train_one_hot, axis = 1))\n",
    "    \n",
    "    if i % 500 == 0:\n",
    "        print(f\"iteration: {i}, loss: {loss}\")\n",
    "    \n",
    "    error = y_proba - y_train_one_hot\n",
    "\n",
    "    gradients = 1/m * (X_train.T.dot(error))\n",
    "    theta = theta - eta * gradients"
   ]
  },
  {
   "cell_type": "code",
   "execution_count": 81,
   "id": "successful-cannon",
   "metadata": {},
   "outputs": [
    {
     "data": {
      "text/plain": [
       "array([[ 3.89895791, -0.10263181, -2.18024152],\n",
       "       [-0.15000429,  1.08765302,  0.7134073 ],\n",
       "       [-0.77633764,  0.26158409,  2.69523966]])"
      ]
     },
     "execution_count": 81,
     "metadata": {},
     "output_type": "execute_result"
    }
   ],
   "source": [
    "theta"
   ]
  },
  {
   "cell_type": "code",
   "execution_count": 82,
   "id": "monthly-elephant",
   "metadata": {},
   "outputs": [
    {
     "data": {
      "text/plain": [
       "0.9"
      ]
     },
     "execution_count": 82,
     "metadata": {},
     "output_type": "execute_result"
    }
   ],
   "source": [
    "logits = X_valid.dot(theta)\n",
    "y_proba = softmax(logits)\n",
    "y_predict = np.argmax(y_proba, axis=1)\n",
    "\n",
    "accuracy_score = np.mean(y_predict == y_valid)\n",
    "accuracy_score"
   ]
  },
  {
   "cell_type": "markdown",
   "id": "german-mumbai",
   "metadata": {},
   "source": [
    "### With Regularization"
   ]
  },
  {
   "cell_type": "code",
   "execution_count": 83,
   "id": "desirable-fashion",
   "metadata": {},
   "outputs": [
    {
     "name": "stdout",
     "output_type": "stream",
     "text": [
      "iteration: 0, loss: 6.060682648084744\n",
      "iteration: 500, loss: 5.2874504015496795\n",
      "iteration: 1000, loss: 5.236207922664984\n",
      "iteration: 1500, loss: 5.2144927933445535\n",
      "iteration: 2000, loss: 5.202864248790928\n",
      "iteration: 2500, loss: 5.196026382700796\n",
      "iteration: 3000, loss: 5.1918137447384725\n",
      "iteration: 3500, loss: 5.189149651353789\n",
      "iteration: 4000, loss: 5.187438057513057\n",
      "iteration: 4500, loss: 5.186327456179428\n",
      "iteration: 5000, loss: 5.185602220184826\n"
     ]
    }
   ],
   "source": [
    "n_inputs = X_train.shape[1]\n",
    "n_outputs = len(np.unique(y))\n",
    "m = len(X_train)\n",
    "epsilon = 1e-7\n",
    "iterations = 5001\n",
    "eta = 0.1\n",
    "alpha = 0.1\n",
    "\n",
    "r_theta = np.random.rand(n_inputs, n_outputs)\n",
    "for i in range(iterations):\n",
    "    logits = X_train.dot(r_theta)\n",
    "    y_proba = softmax(logits)\n",
    "    entropy_loss = -np.mean(np.sum(np.log(y_proba + epsilon) * y_train_one_hot, axis = 1))\n",
    "    l2_loss = 0.5 * np.sum(np.square(theta[1:]))\n",
    "    loss = entropy_loss + l2_loss\n",
    "    \n",
    "    if i % 500 == 0:\n",
    "        print(f\"iteration: {i}, loss: {loss}\")\n",
    "    \n",
    "    error = y_proba - y_train_one_hot\n",
    "    gradients = 1/m * (X_train.T.dot(error)) + np.r_[np.zeros([1, n_outputs]), alpha * r_theta[1:]]\n",
    "    r_theta = r_theta - eta * gradients"
   ]
  },
  {
   "cell_type": "code",
   "execution_count": 84,
   "id": "bigger-governor",
   "metadata": {},
   "outputs": [
    {
     "data": {
      "text/plain": [
       "0.9666666666666667"
      ]
     },
     "execution_count": 84,
     "metadata": {},
     "output_type": "execute_result"
    }
   ],
   "source": [
    "logits = X_valid.dot(r_theta)\n",
    "y_proba = softmax(logits)\n",
    "y_predict = np.argmax(y_proba, axis=1)\n",
    "\n",
    "accuracy_score = np.mean(y_predict == y_valid)\n",
    "accuracy_score"
   ]
  },
  {
   "cell_type": "markdown",
   "id": "human-mortality",
   "metadata": {},
   "source": [
    "### With Early Stopping"
   ]
  },
  {
   "cell_type": "markdown",
   "id": "opposite-private",
   "metadata": {},
   "source": [
    "$J(\\mathbf{\\Theta}) =\n",
    "- \\dfrac{1}{m}\\sum\\limits_{i=1}^{m}\\sum\\limits_{k=1}^{K}{y_k^{(i)}\\log\\left(\\hat{p}_k^{(i)}\\right)}$\n",
    "\n",
    "$\\nabla_{\\mathbf{\\theta}^{(k)}} \\, J(\\mathbf{\\Theta}) = \\dfrac{1}{m} \\sum\\limits_{i=1}^{m}{ \\left ( \\hat{p}^{(i)}_k - y_k^{(i)} \\right ) \\mathbf{x}^{(i)}}$"
   ]
  },
  {
   "cell_type": "code",
   "execution_count": 85,
   "id": "raising-entity",
   "metadata": {},
   "outputs": [
    {
     "name": "stdout",
     "output_type": "stream",
     "text": [
      "iteration 0, loss: 1.325649383035112\n",
      "iteration 500, loss: 0.539513925344459\n",
      "iteration 1000, loss: 0.5106583017596114\n",
      "iteration 1500, loss: 0.5023967459616581\n",
      "iteration 2000, loss: 0.4994042196999483\n",
      "iteration 2500, loss: 0.4982267334414495\n",
      "iteration 3000, loss: 0.4977438117050731\n",
      "iteration 3500, loss: 0.4975410245643562\n",
      "iteration 4000, loss: 0.4974546487524043\n",
      "iteration 4500, loss: 0.4974175285571618\n",
      "iteration 5000, loss: 0.4974014852631339\n"
     ]
    }
   ],
   "source": [
    "n_iterations = 5001\n",
    "n_inputs = X_train.shape[1]\n",
    "n_outputs = len(np.unique(y))\n",
    "e_theta = np.random.rand(n_inputs, n_outputs)\n",
    "m = X_train.shape[0]\n",
    "eta = 0.1\n",
    "alpha = 0.1\n",
    "best_loss = np.infty\n",
    "\n",
    "for i in range(n_iterations):\n",
    "    logits = X_train.dot(e_theta)\n",
    "    proba = softmax(logits)\n",
    "    \n",
    "    label_proba = np.sum(proba * y_train_one_hot, axis=1)\n",
    "    adjusted_label_proba = label_proba + epsilon\n",
    "    log_label_proba = np.log(adjusted_label_proba)\n",
    "    entropy_loss = -np.mean(log_label_proba)\n",
    "    l2_loss = np.sum(np.square(e_theta[1:])) / 2\n",
    "    loss = entropy_loss + alpha * l2_loss\n",
    "    # loss = np.sum(-np.log(np.sum(proba * y_train_one_hot, axis=1) + epsilon))\n",
    "    \n",
    "    gradient_matrix = X_train.T.dot(proba - y_train_one_hot) / m + alpha * np.r_[np.zeros([1, n_outputs]), e_theta[1:]]\n",
    "    e_theta -= eta * gradient_matrix\n",
    "    logits = X_train.dot(e_theta)\n",
    "    proba = softmax(logits)\n",
    "    label_proba = np.sum(proba * y_train_one_hot, axis=1)\n",
    "    adjusted_label_proba = label_proba + epsilon\n",
    "    log_label_proba = np.log(adjusted_label_proba)\n",
    "    entropy_loss = -np.mean(log_label_proba)\n",
    "    l2_loss = np.sum(np.square(e_theta[1:])) / 2\n",
    "    loss = entropy_loss + alpha * l2_loss\n",
    "    \n",
    "    if i % 500 == 0:\n",
    "        print(f\"iteration {i}, loss: {loss}\")\n",
    "    \n",
    "    if loss < best_loss:\n",
    "        best_loss = loss\n",
    "    else:\n",
    "        print(i-1, best_loss, \"best loss\")\n",
    "        print(i, loss, \"early stopping\")\n",
    "        break"
   ]
  },
  {
   "cell_type": "code",
   "execution_count": 86,
   "id": "pressing-aquatic",
   "metadata": {},
   "outputs": [
    {
     "data": {
      "text/plain": [
       "0.9666666666666667"
      ]
     },
     "execution_count": 86,
     "metadata": {},
     "output_type": "execute_result"
    }
   ],
   "source": [
    "logits = X_valid.dot(e_theta)\n",
    "proba = softmax(logits)\n",
    "y_valid_predict = np.argmax(proba, axis = 1)\n",
    "\n",
    "accuracy_score = np.mean(y_valid == y_valid_predict)\n",
    "accuracy_score"
   ]
  },
  {
   "cell_type": "code",
   "execution_count": 87,
   "id": "insured-medicare",
   "metadata": {},
   "outputs": [
    {
     "data": {
      "image/png": "[encoded data removed]",
      "text/plain": [
       "<Figure size 720x288 with 1 Axes>"
      ]
     },
     "metadata": {
      "needs_background": "light"
     },
     "output_type": "display_data"
    }
   ],
   "source": [
    "%matplotlib inline\n",
    "import matplotlib as mpl\n",
    "import matplotlib.pyplot as plt\n",
    "from matplotlib.colors import ListedColormap\n",
    "\n",
    "mpl.rc('axes', labelsize=14)\n",
    "mpl.rc('xtick', labelsize=12)\n",
    "mpl.rc('ytick', labelsize=12)\n",
    "\n",
    "x0, x1 = np.meshgrid(\n",
    "    np.linspace(0, 8, 500).reshape(-1, 1),\n",
    "    np.linspace(0, 3.5, 200).reshape(-1, 1)\n",
    ")\n",
    "X_new = np.c_[x0.ravel(), x1.ravel()]\n",
    "X_new_with_bias = np.c_[np.ones([len(X_new), 1]), X_new]\n",
    "\n",
    "logits = X_new_with_bias.dot(e_theta)\n",
    "Y_proba = softmax(logits)\n",
    "y_predict = np.argmax(Y_proba, axis = 1)\n",
    "\n",
    "zz1 = Y_proba[:, 1].reshape(x0.shape)\n",
    "zz = y_predict.reshape(x0.shape)\n",
    "\n",
    "plt.figure(figsize=(10, 4))\n",
    "plt.plot(X[y==2, 0], X[y==2, 1], \"g^\", label=\"Iris-Virginica\")\n",
    "plt.plot(X[y==1, 0], X[y==1, 1], \"bs\", label=\"Iris-Versicolor\")\n",
    "plt.plot(X[y==0, 0], X[y==0, 1], \"yo\", label=\"Iris-Setosa\")\n",
    "\n",
    "custom_cmap = ListedColormap(['#fafab0','#9898ff','#a0faa0'])\n",
    "\n",
    "plt.contourf(x0, x1, zz, cmap=custom_cmap)\n",
    "contour = plt.contour(x0, x1, zz1, cmap=plt.cm.brg)\n",
    "plt.clabel(contour, inline=1, fontsize=12)\n",
    "plt.xlabel(\"Petal length\", fontsize=14)\n",
    "plt.ylabel(\"Petal width\", fontsize=14)\n",
    "plt.legend(loc=\"upper left\", fontsize=14)\n",
    "plt.axis([0, 7, 0, 3.5])\n",
    "\n",
    "plt.show()"
   ]
  },
  {
   "cell_type": "code",
   "execution_count": 88,
   "id": "seeing-accent",
   "metadata": {},
   "outputs": [
    {
     "data": {
      "text/plain": [
       "1.0"
      ]
     },
     "execution_count": 88,
     "metadata": {},
     "output_type": "execute_result"
    }
   ],
   "source": [
    "logits = X_test.dot(e_theta)\n",
    "proba = softmax(logits)\n",
    "y_predict = np.argmax(proba, axis=1)\n",
    "\n",
    "accuracy_score = np.sum(y_predict == y_test) / len(y_test)\n",
    "accuracy_score"
   ]
  }
 ],
 "metadata": {
  "kernelspec": {
   "display_name": "Python 3",
   "language": "python",
   "name": "python3"
  },
  "language_info": {
   "codemirror_mode": {
    "name": "ipython",
    "version": 3
   },
   "file_extension": ".py",
   "mimetype": "text/x-python",
   "name": "python",
   "nbconvert_exporter": "python",
   "pygments_lexer": "ipython3",
   "version": "3.7.10"
  }
 },
 "nbformat": 4,
 "nbformat_minor": 5
}
