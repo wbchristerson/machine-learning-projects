{
 "cells": [
  {
   "cell_type": "markdown",
   "id": "gothic-clothing",
   "metadata": {},
   "source": [
    "### An Implementation Of Batch Gradient Descent With Early Stopping For Softmax Regression Without Using Scikit-learn"
   ]
  },
  {
   "cell_type": "code",
   "execution_count": 6,
   "id": "eight-natural",
   "metadata": {},
   "outputs": [],
   "source": [
    "import numpy as np"
   ]
  },
  {
   "cell_type": "code",
   "execution_count": null,
   "id": "professional-phase",
   "metadata": {},
   "outputs": [],
   "source": [
    "def get_theta_gradient(output_class, X, y, )"
   ]
  },
  {
   "cell_type": "code",
   "execution_count": 29,
   "id": "mathematical-toolbox",
   "metadata": {},
   "outputs": [],
   "source": [
    "def my_batch_GD(X, y, num_output_classes):\n",
    "    theta_matrix = np.random.rand(X[0].size, num_output_classes)\n",
    "    m = X.shape[0]\n",
    "    \n",
    "    # delta_theta_matrix = np.zeros((X[0].size, num_output_classes))\n",
    "    delta_theta_matrix = np.array([])\n",
    "    \n",
    "    for i in range(num_output_classes):\n",
    "        delta_theta_matrix.append(get_theta_gradient(i, X, y, theta_matrix))\n",
    "    \n",
    "    return theta_matrix"
   ]
  },
  {
   "cell_type": "code",
   "execution_count": 30,
   "id": "grand-bosnia",
   "metadata": {},
   "outputs": [
    {
     "name": "stdout",
     "output_type": "stream",
     "text": [
      "[[0.44177498 0.70217622 0.65281012]\n",
      " [0.52290673 0.27482227 0.9212135 ]\n",
      " [0.79702281 0.30856217 0.99581954]]\n"
     ]
    }
   ],
   "source": [
    "print(my_batch_GD(np.array( [ [1,2,3], [4,5,6], [7,8,9], [10,11,12] ] ), np.array([0, 1, 1, 0]), 3))"
   ]
  }
 ],
 "metadata": {
  "kernelspec": {
   "display_name": "Python 3",
   "language": "python",
   "name": "python3"
  },
  "language_info": {
   "codemirror_mode": {
    "name": "ipython",
    "version": 3
   },
   "file_extension": ".py",
   "mimetype": "text/x-python",
   "name": "python",
   "nbconvert_exporter": "python",
   "pygments_lexer": "ipython3",
   "version": "3.7.10"
  }
 },
 "nbformat": 4,
 "nbformat_minor": 5
}
