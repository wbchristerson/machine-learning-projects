{
 "cells": [
  {
   "cell_type": "markdown",
   "id": "limiting-dialogue",
   "metadata": {},
   "source": [
    "## Support Vector Machine Examples"
   ]
  },
  {
   "cell_type": "markdown",
   "id": "bored-hughes",
   "metadata": {},
   "source": [
    "### A linearly separable dataset - Iris Setosa Flower Versus Iris Versicolor Flower"
   ]
  },
  {
   "cell_type": "code",
   "execution_count": 61,
   "id": "focused-shame",
   "metadata": {},
   "outputs": [],
   "source": [
    "import numpy as np\n",
    "import matplotlib as mpl\n",
    "import matplotlib.pyplot as plt"
   ]
  },
  {
   "cell_type": "code",
   "execution_count": 62,
   "id": "comparable-bangladesh",
   "metadata": {},
   "outputs": [],
   "source": [
    "from sklearn import datasets\n",
    "\n",
    "iris = datasets.load_iris()\n",
    "X_iris = iris[\"data\"][:, (2,3)]\n",
    "y_iris = iris[\"target\"]\n",
    "\n",
    "setosa_or_versicolor = (y_iris == 0) | (y_iris == 1)\n",
    "X_iris = X_iris[setosa_or_versicolor]\n",
    "y_iris = y_iris[setosa_or_versicolor]"
   ]
  },
  {
   "cell_type": "code",
   "execution_count": 63,
   "id": "exposed-accident",
   "metadata": {},
   "outputs": [
    {
     "data": {
      "text/plain": [
       "Pipeline(memory=None,\n",
       "         steps=[('scaler',\n",
       "                 StandardScaler(copy=True, with_mean=True, with_std=True)),\n",
       "                ('svm',\n",
       "                 LinearSVC(C=1.0, class_weight=None, dual=True,\n",
       "                           fit_intercept=True, intercept_scaling=1,\n",
       "                           loss='hinge', max_iter=1000, multi_class='ovr',\n",
       "                           penalty='l2', random_state=11, tol=0.0001,\n",
       "                           verbose=0))],\n",
       "         verbose=False)"
      ]
     },
     "execution_count": 63,
     "metadata": {},
     "output_type": "execute_result"
    }
   ],
   "source": [
    "from sklearn.svm import LinearSVC\n",
    "from sklearn.pipeline import Pipeline\n",
    "from sklearn.preprocessing import StandardScaler\n",
    "\n",
    "# add pipeline to first standardize data\n",
    "\n",
    "linearSVC_pipeline = Pipeline([\n",
    "    ('scaler', StandardScaler()),\n",
    "    ('svm', LinearSVC(loss=\"hinge\", random_state=11))\n",
    "])\n",
    "\n",
    "linearSVC_pipeline.fit(X_iris, y_iris)"
   ]
  },
  {
   "cell_type": "code",
   "execution_count": 64,
   "id": "expensive-conditions",
   "metadata": {},
   "outputs": [
    {
     "name": "stdout",
     "output_type": "stream",
     "text": [
      "[1.44228257 0.56232019]\n",
      "[2.861 0.786]\n"
     ]
    }
   ],
   "source": [
    "print(linearSVC_pipeline[\"scaler\"].scale_)\n",
    "print(linearSVC_pipeline[\"scaler\"].mean_)"
   ]
  },
  {
   "cell_type": "code",
   "execution_count": 65,
   "id": "imperial-royal",
   "metadata": {},
   "outputs": [
    {
     "name": "stdout",
     "output_type": "stream",
     "text": [
      "[[1.0607458  1.00177835]]\n",
      "[0.29588877]\n",
      "[0 1]\n",
      "[1.0607458  1.00177835]\n",
      "0.2958887668023069\n"
     ]
    }
   ],
   "source": [
    "print(linearSVC_pipeline[\"svm\"].coef_)\n",
    "print(linearSVC_pipeline[\"svm\"].intercept_)\n",
    "print(linearSVC_pipeline[\"svm\"].classes_)\n",
    "\n",
    "w_LinearSVC = linearSVC_pipeline[\"svm\"].coef_[0]\n",
    "b_LinearSVC = linearSVC_pipeline[\"svm\"].intercept_[0]\n",
    "print(w_LinearSVC)\n",
    "print(b_LinearSVC)\n",
    "\n",
    "# w[0] * x0 + w[1] * x1 + b = 0\n",
    "# x1 = (-b - w[0] * x[0]) / w[1]"
   ]
  },
  {
   "cell_type": "code",
   "execution_count": 66,
   "id": "restricted-experience",
   "metadata": {},
   "outputs": [
    {
     "data": {
      "text/plain": [
       "1.0"
      ]
     },
     "execution_count": 66,
     "metadata": {},
     "output_type": "execute_result"
    }
   ],
   "source": [
    "from sklearn.metrics import accuracy_score\n",
    "\n",
    "linearSVC_predictions = linearSVC_pipeline.predict(X_iris)\n",
    "accuracy_score(y_iris, linearSVC_predictions)"
   ]
  },
  {
   "cell_type": "code",
   "execution_count": 67,
   "id": "reduced-breakfast",
   "metadata": {},
   "outputs": [
    {
     "data": {
      "text/plain": [
       "Pipeline(memory=None,\n",
       "         steps=[('scaler',\n",
       "                 StandardScaler(copy=True, with_mean=True, with_std=True)),\n",
       "                ('svm',\n",
       "                 SVC(C=1.0, break_ties=False, cache_size=200, class_weight=None,\n",
       "                     coef0=0.0, decision_function_shape='ovr', degree=3,\n",
       "                     gamma='scale', kernel='linear', max_iter=-1,\n",
       "                     probability=False, random_state=11, shrinking=True,\n",
       "                     tol=0.001, verbose=False))],\n",
       "         verbose=False)"
      ]
     },
     "execution_count": 67,
     "metadata": {},
     "output_type": "execute_result"
    }
   ],
   "source": [
    "from sklearn.svm import SVC\n",
    "\n",
    "svc_pipeline = Pipeline([\n",
    "    (\"scaler\", StandardScaler()),\n",
    "    (\"svm\", SVC(kernel=\"linear\", random_state=11))\n",
    "])\n",
    "\n",
    "svc_pipeline.fit(X_iris, y_iris)"
   ]
  },
  {
   "cell_type": "code",
   "execution_count": 68,
   "id": "impaired-spell",
   "metadata": {},
   "outputs": [
    {
     "name": "stdout",
     "output_type": "stream",
     "text": [
      "[1.04342638 0.94747825]\n",
      "0.3218252105072825\n"
     ]
    }
   ],
   "source": [
    "w_SVC = svc_pipeline[\"svm\"].coef_[0]\n",
    "b_SVC = svc_pipeline[\"svm\"].intercept_[0]\n",
    "\n",
    "print(w_SVC)\n",
    "print(b_SVC)"
   ]
  },
  {
   "cell_type": "code",
   "execution_count": 69,
   "id": "conceptual-recall",
   "metadata": {},
   "outputs": [
    {
     "data": {
      "text/plain": [
       "Pipeline(memory=None,\n",
       "         steps=[('scaler',\n",
       "                 StandardScaler(copy=True, with_mean=True, with_std=True)),\n",
       "                ('sgd_clf',\n",
       "                 SGDClassifier(alpha=0.0001, average=False, class_weight=None,\n",
       "                               early_stopping=False, epsilon=0.1, eta0=0.001,\n",
       "                               fit_intercept=True, l1_ratio=0.15,\n",
       "                               learning_rate='constant', loss='hinge',\n",
       "                               max_iter=6000, n_iter_no_change=5, n_jobs=None,\n",
       "                               penalty='l2', power_t=0.5, random_state=11,\n",
       "                               shuffle=True, tol=0.001, validation_fraction=0.1,\n",
       "                               verbose=0, warm_start=False))],\n",
       "         verbose=False)"
      ]
     },
     "execution_count": 69,
     "metadata": {},
     "output_type": "execute_result"
    }
   ],
   "source": [
    "from sklearn.linear_model import SGDClassifier\n",
    "\n",
    "sgd_pipeline = Pipeline([\n",
    "    (\"scaler\", StandardScaler()),\n",
    "    (\"sgd_clf\", SGDClassifier(random_state=11, max_iter=6000, learning_rate=\"constant\", eta0=0.001)),\n",
    "])\n",
    "sgd_pipeline.fit(X_iris, y_iris)"
   ]
  },
  {
   "cell_type": "code",
   "execution_count": 70,
   "id": "overhead-catalyst",
   "metadata": {},
   "outputs": [
    {
     "name": "stdout",
     "output_type": "stream",
     "text": [
      "[0.77858636 0.73064189]\n",
      "0.11800000000000009\n"
     ]
    }
   ],
   "source": [
    "w_SGDC = sgd_pipeline[\"sgd_clf\"].coef_[0]\n",
    "b_SGDC = sgd_pipeline[\"sgd_clf\"].intercept_[0]\n",
    "\n",
    "print(w_SGDC)\n",
    "print(b_SGDC)"
   ]
  },
  {
   "cell_type": "code",
   "execution_count": 71,
   "id": "instant-cathedral",
   "metadata": {},
   "outputs": [
    {
     "data": {
      "image/png": "[encoded data removed]",
      "text/plain": [
       "<Figure size 864x432 with 1 Axes>"
      ]
     },
     "metadata": {
      "needs_background": "light"
     },
     "output_type": "display_data"
    }
   ],
   "source": [
    "X_iris_scaled = (X_iris - linearSVC_pipeline[\"scaler\"].mean_) / linearSVC_pipeline[\"scaler\"].scale_\n",
    "# print(X_iris_scaled)\n",
    "\n",
    "x_grid = np.linspace(-2, 2, 100)\n",
    "linearsvc_decision_boundary = (-b_LinearSVC - w_LinearSVC[0] * x_grid) / w_LinearSVC[1]\n",
    "svc_decision_boundary = (-b_SVC - w_SVC[0] * x_grid) / w_SVC[1]\n",
    "sgd_decision_boundary = (-b_SGDC - w_SGDC[0] * x_grid) / w_SGDC[1]\n",
    "\n",
    "plt.figure(figsize=(12,6.0))\n",
    "plt.subplot(111)\n",
    "plt.axis([-2, 2, -2, 3.0])\n",
    "plt.plot(X_iris_scaled[:, 0][y_iris == 0], X_iris_scaled[:, 1][y_iris == 0], 'bs', label = \"Iris-Versicolor\")\n",
    "plt.plot(X_iris_scaled[:, 0][y_iris == 1], X_iris_scaled[:, 1][y_iris == 1], 'yo', label = \"Iris-Setosa\")\n",
    "plt.plot(x_grid, linearsvc_decision_boundary, 'k--', label = \"LinearSVC\")\n",
    "plt.plot(x_grid, svc_decision_boundary, 'g--', label=\"SVC\")\n",
    "plt.plot(x_grid, sgd_decision_boundary, 'r--', label=\"SGD\")\n",
    "\n",
    "plt.legend(loc=\"upper center\", fontsize=14)\n",
    "plt.show()"
   ]
  },
  {
   "cell_type": "markdown",
   "id": "extraordinary-dependence",
   "metadata": {},
   "source": [
    "### SVM Classifier On MNIST Data Set"
   ]
  },
  {
   "cell_type": "code",
   "execution_count": null,
   "id": "ecological-basement",
   "metadata": {},
   "outputs": [],
   "source": [
    "from sklearn.datasets import fetch_openml\n",
    "mnist = fetch_openml('mnist_784', version=1, cache=True)\n",
    "\n",
    "data = mnist[\"data\"]\n",
    "target = mnist[\"target\"]\n",
    "print(data[:5])"
   ]
  },
  {
   "cell_type": "code",
   "execution_count": null,
   "id": "threaded-paradise",
   "metadata": {},
   "outputs": [],
   "source": []
  }
 ],
 "metadata": {
  "kernelspec": {
   "display_name": "Python 3",
   "language": "python",
   "name": "python3"
  },
  "language_info": {
   "codemirror_mode": {
    "name": "ipython",
    "version": 3
   },
   "file_extension": ".py",
   "mimetype": "text/x-python",
   "name": "python",
   "nbconvert_exporter": "python",
   "pygments_lexer": "ipython3",
   "version": "3.7.10"
  }
 },
 "nbformat": 4,
 "nbformat_minor": 5
}
