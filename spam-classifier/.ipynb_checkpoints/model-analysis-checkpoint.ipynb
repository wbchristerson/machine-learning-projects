{
 "cells": [
  {
   "cell_type": "code",
   "execution_count": null,
   "id": "soviet-youth",
   "metadata": {},
   "outputs": [],
   "source": [
    "import tarfile\n",
    "\n",
    "BASE_URL = \"http://spamassassin.apache.org/old/publiccorpus/\"\n",
    "HAM_URL = BASE_URL + \"20021010_easy_ham.tar.bz2\"\n",
    "SPAM_URL = BASE_URL + \"20021010_spam.tar.bz2\"\n",
    "\n",
    "def fetch_spam_data():\n",
    "    tar_file = tarfile.open(HAM_URL)\n",
    "    tar_file.extractall(path=\"ham\")\n",
    "    tar_file.close()"
   ]
  }
 ],
 "metadata": {
  "kernelspec": {
   "display_name": "Python 3",
   "language": "python",
   "name": "python3"
  },
  "language_info": {
   "codemirror_mode": {
    "name": "ipython",
    "version": 3
   },
   "file_extension": ".py",
   "mimetype": "text/x-python",
   "name": "python",
   "nbconvert_exporter": "python",
   "pygments_lexer": "ipython3",
   "version": "3.7.10"
  }
 },
 "nbformat": 4,
 "nbformat_minor": 5
}
