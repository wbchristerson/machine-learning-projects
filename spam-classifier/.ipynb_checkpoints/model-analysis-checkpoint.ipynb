{
 "cells": [
  {
   "cell_type": "code",
   "execution_count": 33,
   "id": "seasonal-attack",
   "metadata": {},
   "outputs": [],
   "source": [
    "import tarfile\n",
    "import os\n",
    "from six.moves import urllib\n",
    "\n",
    "BASE_URL = \"http://spamassassin.apache.org/old/publiccorpus/\"\n",
    "\n",
    "HAM_FOLDER = \"ham\"\n",
    "SPAM_FOLDER = \"spam\"\n",
    "\n",
    "HAM_URL_SUFFIX = \"20021010_easy_ham.tar.bz2\"\n",
    "SPAM_URL_SUFFIX = \"20021010_spam.tar.bz2\"\n",
    "\n",
    "def fetch_spam_data(destination_folder, destination_file, source_file, source_base_url = BASE_URL):\n",
    "    if not os.path.isdir(destination_folder):\n",
    "        os.makedirs(destination_folder)\n",
    "    path = os.path.join(destination_folder, destination_file)\n",
    "    if not os.path.isfile(path):\n",
    "        urllib.request.urlretrieve(source_base_url + destination_file, path)\n",
    "    print(\"path:\", path)\n",
    "    tar_data_file = tarfile.open(path)\n",
    "    tar_data_file.extractall(destination_folder)\n",
    "    tar_data_file.close()"
   ]
  },
  {
   "cell_type": "code",
   "execution_count": 34,
   "id": "fleet-premiere",
   "metadata": {},
   "outputs": [
    {
     "name": "stdout",
     "output_type": "stream",
     "text": [
      "path: ham/20021010_easy_ham.tar.bz2\n",
      "path: spam/20021010_spam.tar.bz2\n"
     ]
    }
   ],
   "source": [
    "fetch_spam_data(HAM_FOLDER, HAM_URL_SUFFIX, HAM_URL_SUFFIX)\n",
    "fetch_spam_data(SPAM_FOLDER, SPAM_URL_SUFFIX, SPAM_URL_SUFFIX)"
   ]
  },
  {
   "cell_type": "code",
   "execution_count": 36,
   "id": "shared-gateway",
   "metadata": {},
   "outputs": [],
   "source": [
    "ACTUAL_HAM_DIR = os.path.join(HAM_FOLDER + \"/easy_ham\")\n",
    "ACTUAL_SPAM_DIR = os.path.join(SPAM_FOLDER + \"/spam\")\n",
    "ham_filenames = [filename for filename in sorted(os.listdir(ACTUAL_HAM_DIR)) if len(filename) > 20]\n",
    "spam_filenames = [filename for filename in sorted(os.listdir(ACTUAL_SPAM_DIR)) if len(filename) > 20]"
   ]
  },
  {
   "cell_type": "code",
   "execution_count": 37,
   "id": "developing-silver",
   "metadata": {},
   "outputs": [
    {
     "data": {
      "text/plain": [
       "2551"
      ]
     },
     "execution_count": 37,
     "metadata": {},
     "output_type": "execute_result"
    }
   ],
   "source": [
    "len(ham_filenames)"
   ]
  },
  {
   "cell_type": "code",
   "execution_count": 38,
   "id": "soviet-candle",
   "metadata": {},
   "outputs": [
    {
     "data": {
      "text/plain": [
       "501"
      ]
     },
     "execution_count": 38,
     "metadata": {},
     "output_type": "execute_result"
    }
   ],
   "source": [
    "len(spam_filenames)"
   ]
  },
  {
   "cell_type": "code",
   "execution_count": null,
   "id": "nervous-color",
   "metadata": {},
   "outputs": [],
   "source": []
  }
 ],
 "metadata": {
  "kernelspec": {
   "display_name": "Python 3",
   "language": "python",
   "name": "python3"
  },
  "language_info": {
   "codemirror_mode": {
    "name": "ipython",
    "version": 3
   },
   "file_extension": ".py",
   "mimetype": "text/x-python",
   "name": "python",
   "nbconvert_exporter": "python",
   "pygments_lexer": "ipython3",
   "version": "3.7.10"
  }
 },
 "nbformat": 4,
 "nbformat_minor": 5
}
