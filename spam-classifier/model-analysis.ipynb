{
 "cells": [
  {
   "cell_type": "code",
   "execution_count": 47,
   "id": "large-learning",
   "metadata": {},
   "outputs": [],
   "source": [
    "# The content of this notebook is based on the content of the solution to the spam classifier problem in \n",
    "# Aurelien Geron's book, Hands-On ML. Much of the code used here exactly matches the code that he provides"
   ]
  },
  {
   "cell_type": "code",
   "execution_count": 45,
   "id": "wireless-pleasure",
   "metadata": {},
   "outputs": [],
   "source": [
    "import numpy as np\n",
    "import pandas as pd"
   ]
  },
  {
   "cell_type": "code",
   "execution_count": 1,
   "id": "seasonal-attack",
   "metadata": {},
   "outputs": [],
   "source": [
    "import tarfile\n",
    "import os\n",
    "from six.moves import urllib\n",
    "\n",
    "BASE_URL = \"http://spamassassin.apache.org/old/publiccorpus/\"\n",
    "\n",
    "HAM_FOLDER = \"ham\"\n",
    "SPAM_FOLDER = \"spam\"\n",
    "\n",
    "HAM_URL_SUFFIX = \"20021010_easy_ham.tar.bz2\"\n",
    "SPAM_URL_SUFFIX = \"20021010_spam.tar.bz2\"\n",
    "\n",
    "def fetch_spam_data(destination_folder, destination_file, source_file, source_base_url = BASE_URL):\n",
    "    if not os.path.isdir(destination_folder):\n",
    "        os.makedirs(destination_folder)\n",
    "    path = os.path.join(destination_folder, destination_file)\n",
    "    if not os.path.isfile(path):\n",
    "        urllib.request.urlretrieve(source_base_url + destination_file, path)\n",
    "    print(\"path:\", path)\n",
    "    tar_data_file = tarfile.open(path)\n",
    "    tar_data_file.extractall(destination_folder)\n",
    "    tar_data_file.close()"
   ]
  },
  {
   "cell_type": "code",
   "execution_count": 2,
   "id": "fleet-premiere",
   "metadata": {},
   "outputs": [
    {
     "name": "stdout",
     "output_type": "stream",
     "text": [
      "path: ham/20021010_easy_ham.tar.bz2\n",
      "path: spam/20021010_spam.tar.bz2\n"
     ]
    }
   ],
   "source": [
    "fetch_spam_data(HAM_FOLDER, HAM_URL_SUFFIX, HAM_URL_SUFFIX)\n",
    "fetch_spam_data(SPAM_FOLDER, SPAM_URL_SUFFIX, SPAM_URL_SUFFIX)"
   ]
  },
  {
   "cell_type": "code",
   "execution_count": 28,
   "id": "shared-gateway",
   "metadata": {},
   "outputs": [],
   "source": [
    "ACTUAL_HAM_DIR = os.path.join(HAM_FOLDER + \"/easy_ham\")\n",
    "ACTUAL_SPAM_DIR = os.path.join(SPAM_FOLDER + \"/spam\")\n",
    "ham_filenames = [filename for filename in sorted(os.listdir(ACTUAL_HAM_DIR)) if len(filename) > 20][1:]\n",
    "spam_filenames = [filename for filename in sorted(os.listdir(ACTUAL_SPAM_DIR)) if len(filename) > 20][1:]"
   ]
  },
  {
   "cell_type": "code",
   "execution_count": 29,
   "id": "developing-silver",
   "metadata": {},
   "outputs": [
    {
     "data": {
      "text/plain": [
       "2550"
      ]
     },
     "execution_count": 29,
     "metadata": {},
     "output_type": "execute_result"
    }
   ],
   "source": [
    "len(ham_filenames)"
   ]
  },
  {
   "cell_type": "code",
   "execution_count": 30,
   "id": "soviet-candle",
   "metadata": {},
   "outputs": [
    {
     "data": {
      "text/plain": [
       "500"
      ]
     },
     "execution_count": 30,
     "metadata": {},
     "output_type": "execute_result"
    }
   ],
   "source": [
    "len(spam_filenames)"
   ]
  },
  {
   "cell_type": "code",
   "execution_count": 31,
   "id": "nervous-color",
   "metadata": {},
   "outputs": [],
   "source": [
    "import email\n",
    "import email.policy\n",
    "\n",
    "def load_email(data_directory, data_file):\n",
    "    with open(os.path.join(data_directory, data_file), \"rb\") as f:\n",
    "        return email.parser.BytesParser(policy=email.policy.default).parse(f)"
   ]
  },
  {
   "cell_type": "code",
   "execution_count": 32,
   "id": "amateur-baltimore",
   "metadata": {},
   "outputs": [],
   "source": [
    "ham_emails = [load_email(\"ham/easy_ham\", filename) for filename in ham_filenames]\n",
    "spam_emails = [load_email(\"spam/spam\", filename) for filename in spam_filenames]"
   ]
  },
  {
   "cell_type": "code",
   "execution_count": 33,
   "id": "continuing-daughter",
   "metadata": {},
   "outputs": [
    {
     "name": "stdout",
     "output_type": "stream",
     "text": [
      "Man Threatens Explosion In Moscow \n",
      "\n",
      "Thursday August 22, 2002 1:40 PM\n",
      "MOSCOW (AP) - Security officers on Thursday seized an unidentified man who\n",
      "said he was armed with explosives and threatened to blow up his truck in\n",
      "front of Russia's Federal Security Services headquarters in Moscow, NTV\n",
      "television reported.\n",
      "The officers seized an automatic rifle the man was carrying, then the man\n",
      "got out of the truck and was taken into custody, NTV said. No other details\n",
      "were immediately available.\n",
      "The man had demanded talks with high government officials, the Interfax and\n",
      "ITAR-Tass news agencies said. Ekho Moskvy radio reported that he wanted to\n",
      "talk with Russian President Vladimir Putin.\n",
      "Police and security forces rushed to the Security Service building, within\n",
      "blocks of the Kremlin, Red Square and the Bolshoi Ballet, and surrounded the\n",
      "man, who claimed to have one and a half tons of explosives, the news\n",
      "agencies said. Negotiations continued for about one and a half hours outside\n",
      "the building, ITAR-Tass and Interfax reported, citing witnesses.\n",
      "The man later drove away from the building, under police escort, and drove\n",
      "to a street near Moscow's Olympic Penta Hotel, where authorities held\n",
      "further negotiations with him, the Moscow police press service said. The\n",
      "move appeared to be an attempt by security services to get him to a more\n",
      "secure location. \n",
      "\n",
      "------------------------ Yahoo! Groups Sponsor ---------------------~-->\n",
      "4 DVDs Free +s&p Join Now\n",
      "http://us.click.yahoo.com/pt6YBB/NXiEAA/mG3HAA/7gSolB/TM\n",
      "---------------------------------------------------------------------~->\n",
      "\n",
      "To unsubscribe from this group, send an email to:\n",
      "forteana-unsubscribe@egroups.com\n",
      "\n",
      " \n",
      "\n",
      "Your use of Yahoo! Groups is subject to http://docs.yahoo.com/info/terms/\n"
     ]
    }
   ],
   "source": [
    "print(ham_emails[1].get_content().strip())"
   ]
  },
  {
   "cell_type": "code",
   "execution_count": 34,
   "id": "right-lyric",
   "metadata": {},
   "outputs": [
    {
     "name": "stdout",
     "output_type": "stream",
     "text": [
      "Help wanted.  We are a 14 year old fortune 500 company, that is\n",
      "growing at a tremendous rate.  We are looking for individuals who\n",
      "want to work from home.\n",
      "\n",
      "This is an opportunity to make an excellent income.  No experience\n",
      "is required.  We will train you.\n",
      "\n",
      "So if you are looking to be employed from home with a career that has\n",
      "vast opportunities, then go:\n",
      "\n",
      "http://www.basetel.com/wealthnow\n",
      "\n",
      "We are looking for energetic and self motivated people.  If that is you\n",
      "than click on the link and fill out the form, and one of our\n",
      "employement specialist will contact you.\n",
      "\n",
      "To be removed from our link simple go to:\n",
      "\n",
      "http://www.basetel.com/remove.html\n",
      "\n",
      "\n",
      "4139vOLW7-758DoDY1425FRhM1-764SMFc8513fCsLl40\n"
     ]
    }
   ],
   "source": [
    "print(spam_emails[6].get_content().strip())"
   ]
  },
  {
   "cell_type": "code",
   "execution_count": 35,
   "id": "possible-plain",
   "metadata": {},
   "outputs": [],
   "source": [
    "def get_email_structure(email):\n",
    "    if isinstance(email, str):\n",
    "        return email\n",
    "    payload = email.get_payload()\n",
    "    if isinstance(payload, list):\n",
    "        return f\"multipart({', '.join([get_email_structure(sub_email) for sub_email in payload])})\"\n",
    "    else:\n",
    "        return email.get_content_type()"
   ]
  },
  {
   "cell_type": "code",
   "execution_count": 36,
   "id": "formal-things",
   "metadata": {},
   "outputs": [],
   "source": [
    "from collections import Counter\n",
    "\n",
    "def structures_counter(emails):\n",
    "    structures = Counter()\n",
    "    for email in emails:\n",
    "        structure = get_email_structure(email)\n",
    "        structures[structure] += 1\n",
    "    return structures"
   ]
  },
  {
   "cell_type": "code",
   "execution_count": 37,
   "id": "broke-duplicate",
   "metadata": {},
   "outputs": [
    {
     "data": {
      "text/plain": [
       "[('text/plain', 2452),\n",
       " ('multipart(text/plain, application/pgp-signature)', 72),\n",
       " ('multipart(text/plain, text/html)', 8),\n",
       " ('multipart(text/plain, text/plain)', 4),\n",
       " ('multipart(text/plain)', 3),\n",
       " ('multipart(text/plain, application/octet-stream)', 2),\n",
       " ('multipart(text/plain, text/enriched)', 1),\n",
       " ('multipart(text/plain, application/ms-tnef, text/plain)', 1),\n",
       " ('multipart(multipart(text/plain, text/plain, text/plain), application/pgp-signature)',\n",
       "  1),\n",
       " ('multipart(text/plain, video/mng)', 1),\n",
       " ('multipart(text/plain, multipart(text/plain))', 1),\n",
       " ('multipart(text/plain, application/x-pkcs7-signature)', 1),\n",
       " ('multipart(text/plain, multipart(text/plain, text/plain), text/rfc822-headers)',\n",
       "  1),\n",
       " ('multipart(text/plain, multipart(text/plain, text/plain), multipart(multipart(text/plain, application/x-pkcs7-signature)))',\n",
       "  1),\n",
       " ('multipart(text/plain, application/x-java-applet)', 1)]"
      ]
     },
     "execution_count": 37,
     "metadata": {},
     "output_type": "execute_result"
    }
   ],
   "source": [
    "structures_counter(ham_emails).most_common()"
   ]
  },
  {
   "cell_type": "code",
   "execution_count": 38,
   "id": "precise-kelly",
   "metadata": {},
   "outputs": [
    {
     "data": {
      "text/plain": [
       "[('text/plain', 221),\n",
       " ('text/html', 181),\n",
       " ('multipart(text/plain, text/html)', 45),\n",
       " ('multipart(text/html)', 19),\n",
       " ('multipart(text/plain)', 19),\n",
       " ('multipart(multipart(text/html))', 5),\n",
       " ('multipart(text/plain, image/jpeg)', 3),\n",
       " ('multipart(text/html, application/octet-stream)', 2),\n",
       " ('multipart(text/plain, application/octet-stream)', 1),\n",
       " ('multipart(text/html, text/plain)', 1),\n",
       " ('multipart(multipart(text/html), application/octet-stream, image/jpeg)', 1),\n",
       " ('multipart(multipart(text/plain, text/html), image/gif)', 1),\n",
       " ('multipart/alternative', 1)]"
      ]
     },
     "execution_count": 38,
     "metadata": {},
     "output_type": "execute_result"
    }
   ],
   "source": [
    "structures_counter(spam_emails).most_common()"
   ]
  },
  {
   "cell_type": "code",
   "execution_count": 42,
   "id": "prepared-water",
   "metadata": {},
   "outputs": [
    {
     "name": "stdout",
     "output_type": "stream",
     "text": [
      "Return-Path : <12a1mailbot1@web.de>\n",
      "Delivered-To : zzzz@localhost.example.com\n",
      "Received : from localhost (localhost [127.0.0.1])\tby phobos.labs.example.com (Postfix) with ESMTP id 136B943C32\tfor <zzzz@localhost>; Thu, 22 Aug 2002 08:17:21 -0400 (EDT)\n",
      "Received : from mail.webnote.net [193.120.211.219]\tby localhost with POP3 (fetchmail-5.9.0)\tfor zzzz@localhost (single-drop); Thu, 22 Aug 2002 13:17:21 +0100 (IST)\n",
      "Received : from dd_it7 ([210.97.77.167])\tby webnote.net (8.9.3/8.9.3) with ESMTP id NAA04623\tfor <zzzz@example.com>; Thu, 22 Aug 2002 13:09:41 +0100\n",
      "From : 12a1mailbot1@web.de\n",
      "Received : from r-smtp.korea.com - 203.122.2.197 by dd_it7  with Microsoft SMTPSVC(5.5.1775.675.6);\t Sat, 24 Aug 2002 09:42:10 +0900\n",
      "To : dcek1a1@netsgo.com\n",
      "Subject : Life Insurance - Why Pay More?\n",
      "Date : Wed, 21 Aug 2002 20:31:57 -1600\n",
      "MIME-Version : 1.0\n",
      "Message-ID : <0103c1042001882DD_IT7@dd_it7>\n",
      "Content-Type : text/html; charset=\"iso-8859-1\"\n",
      "Content-Transfer-Encoding : quoted-printable\n"
     ]
    }
   ],
   "source": [
    "for header, value in spam_emails[0].items():\n",
    "    print(header,\":\",value)"
   ]
  },
  {
   "cell_type": "code",
   "execution_count": 43,
   "id": "electronic-dairy",
   "metadata": {},
   "outputs": [
    {
     "data": {
      "text/plain": [
       "'Life Insurance - Why Pay More?'"
      ]
     },
     "execution_count": 43,
     "metadata": {},
     "output_type": "execute_result"
    }
   ],
   "source": [
    "spam_emails[0][\"Subject\"]"
   ]
  },
  {
   "cell_type": "code",
   "execution_count": 48,
   "id": "unknown-locking",
   "metadata": {},
   "outputs": [],
   "source": [
    "from sklearn.model_selection import train_test_split\n",
    "\n",
    "X = np.array(ham_emails + spam_emails)\n",
    "y = np.array([0] * len(ham_emails) + [1] * len(spam_emails))\n",
    "\n",
    "X_train, X_test, y_train, y_test = train_test_split(X, y, test_size=0.2, random_state=11)"
   ]
  },
  {
   "cell_type": "code",
   "execution_count": 49,
   "id": "forty-philippines",
   "metadata": {},
   "outputs": [],
   "source": [
    "import re\n",
    "from html import unescape\n",
    "\n",
    "def html_to_plain_text(html):\n",
    "    text = re.sub('<head.*?>.*</head>', '', html, flags=re.M | re.S | re.I)\n",
    "    text = re.sub('<a\\s.*?>', ' HYPERLINK ', text, flags=re.M | re.S | re.I)\n",
    "    text = re.sub('<.*?>', '', text, flags=re.M | re.S)\n",
    "    text = re.sub(r'(\\s*\\n)+', '\\n', text, flags=re.M | re.S)\n",
    "    return unescape(text)"
   ]
  },
  {
   "cell_type": "code",
   "execution_count": null,
   "id": "psychological-legend",
   "metadata": {},
   "outputs": [],
   "source": [
    "html_spam_emails = [email for email in X_train[y_train == 1] if get_email_structure(email) == \"text/html\"]\n",
    "sample_html_spam = html_spam_emails[7]"
   ]
  }
 ],
 "metadata": {
  "kernelspec": {
   "display_name": "Python 3",
   "language": "python",
   "name": "python3"
  },
  "language_info": {
   "codemirror_mode": {
    "name": "ipython",
    "version": 3
   },
   "file_extension": ".py",
   "mimetype": "text/x-python",
   "name": "python",
   "nbconvert_exporter": "python",
   "pygments_lexer": "ipython3",
   "version": "3.7.10"
  }
 },
 "nbformat": 4,
 "nbformat_minor": 5
}
